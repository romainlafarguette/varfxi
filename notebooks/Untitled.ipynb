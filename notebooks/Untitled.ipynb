{
 "cells": [
  {
   "cell_type": "code",
   "execution_count": 299,
   "id": "0e3f4b5b-23fa-4806-a098-1ca42c0e6893",
   "metadata": {},
   "outputs": [],
   "source": [
    "from arch.univariate import ARX, ZeroMean # Drift model\n",
    "from arch.univariate import ConstantVariance, FixedVariance, ARCH, GARCH, EGARCH, EWMAVariance, RiskMetrics2006 # Volatility models\n",
    "from arch.univariate import Normal, StudentsT, SkewStudent, GeneralizedError # Distributions\n",
    "from statsmodels.distributions.empirical_distribution import ECDF\n",
    "from statsmodels.graphics.tsaplots import plot_acf, plot_pacf\n",
    "from scipy import stats"
   ]
  },
  {
   "cell_type": "code",
   "execution_count": 300,
   "id": "0a311a5f-09cc-46a8-9b83-1338f7725274",
   "metadata": {},
   "outputs": [],
   "source": [
    "import pandas as pd\n",
    "import numpy as np\n",
    "import matplotlib.pyplot as plt"
   ]
  },
  {
   "cell_type": "code",
   "execution_count": 301,
   "id": "3e883b7d-06d7-41b1-ad24-6c3e2ac7a222",
   "metadata": {},
   "outputs": [],
   "source": [
    "df = pd.read_csv('../data/clean_data.csv', parse_dates=['date']).set_index('date')\n",
    "df['FX/Vix'] = df['FX log returns']/df['vix']"
   ]
  },
  {
   "cell_type": "code",
   "execution_count": 302,
   "id": "67f18704-8379-483f-9734-50eb73f72a84",
   "metadata": {},
   "outputs": [],
   "source": [
    "# Prepare the list of variables\n",
    "microstructure = [\n",
    "    'Bid ask abs', \n",
    "    'Min max abs',\n",
    "    'Forward points first difference']\n",
    "\n",
    "cip = ['Interbank rate vs Libor']\n",
    "\n",
    "eurusd = ['EURUSD log returns']\n",
    "\n",
    "external_shocks = ['VIX first diff', 'Oil prices log returns']\n",
    "\n",
    "prev_interventions = ['FX intervention dummy lag']\n",
    "\n",
    "\n",
    "# List of models\n",
    "models_l = {'Microstructure': microstructure,\n",
    "            'CIP': microstructure + cip,\n",
    "            'Dollar move' : microstructure + cip + eurusd,\n",
    "            'Risk Appetite': microstructure + cip + eurusd + external_shocks,\n",
    "            'Baseline' : microstructure + cip + eurusd + external_shocks + prev_interventions\n",
    "            }\n",
    "\n",
    "fx_cols = ['FX intervention in USD', 'FX level', 'FX log returns', 'FX/Vix']\n",
    "transformed_variables = fx_cols + models_l['Baseline']\n",
    "\n",
    "start_date = df.index[df[transformed_variables].count(axis=1) ==len(transformed_variables)][0]\n",
    "\n",
    "df_tranformed = df.loc[df.index>=start_date, transformed_variables].fillna(0)"
   ]
  },
  {
   "cell_type": "code",
   "execution_count": 306,
   "id": "d0263ad0-00c0-4e4b-943f-503c56ec0c6f",
   "metadata": {},
   "outputs": [],
   "source": [
    "def plot_forecast(res_forecast):\n",
    "    # Create the first plot with blue axis\n",
    "    fig, ax1 = plt.subplots()\n",
    "    ax1.plot(res_forecast.cond_mean, color='b', alpha=0.8)\n",
    "    ax1.set_ylabel('Conditional Mean', color='b')\n",
    "    ax1.tick_params(axis='y', labelcolor='b')\n",
    "    ax1.set_xlabel('Date')\n",
    "    ax1.set_title('Forecast')\n",
    "\n",
    "    # Create the second plot with red axis\n",
    "    ax2 = ax1.twinx()\n",
    "    ax2.plot(res_forecast.cond_var, color='orange')\n",
    "    ax2.set_ylabel('Conditional Variance', color='orange')\n",
    "    ax2.tick_params(axis='y', labelcolor='orange')\n",
    "\n",
    "    plt.show()"
   ]
  },
  {
   "cell_type": "code",
   "execution_count": 304,
   "id": "2f6746e9-33ef-4e4c-9049-3972764089b3",
   "metadata": {},
   "outputs": [],
   "source": [
    "def KS_distrib_test(data, cdf, threshold = 0.05, verbose=True) -> bool:\n",
    "    # Compute the KS statistics (in case of need)\n",
    "    # The null hypothesis is that the two distributions are identical\n",
    "    # Reject the null hypothesis if the pvalue < threshold\n",
    "    ks_stats = stats.kstest(data, cdf)\n",
    "    reject = (ks_stats.pvalue < threshold)\n",
    "    PassFail = 'Fail' if reject else 'Pass'\n",
    "    spec = 'not'\n",
    "    m1= '#'*10+ ' Kolmogorov Smirnov PIT test ' + '#'*10\n",
    "    m2 = f'PIT test {PassFail} !!!'\n",
    "    m3 = f'Distribution is {spec} well specified'\n",
    "    m4 = f'The conditional CDF of Normalized True Values are {spec} a Uniform'\n",
    "    \n",
    "    if verbose:\n",
    "        print(m1+'\\n'+m2+'\\n'+m3+'\\n'+m4) \n",
    "    \n",
    "    return not reject"
   ]
  },
  {
   "cell_type": "code",
   "execution_count": 307,
   "id": "4728e468-8618-497c-833c-842da574a525",
   "metadata": {},
   "outputs": [],
   "source": [
    "def qqplot_cdf(data, ppf, title = 'QQ Plot') -> None:\n",
    "    \"\"\"\n",
    "    Plot a QQ plot for a given CDF function and data.\n",
    "\n",
    "    Parameters:\n",
    "    ppf (callable): A function that represents the PPF of the theoretical distribution.\n",
    "    data (array-like): An array of sample data.\n",
    "\n",
    "    Returns:\n",
    "    None\n",
    "    \"\"\"\n",
    "    # Calculate percentiles of the sample data\n",
    "    percentiles = np.linspace(.1, 99, 99)\n",
    "\n",
    "    # Calculate theoretical quantiles for each percentile of the sample data\n",
    "    sampling_quantiles = np.array([np.percentile(data, p) for p in percentiles])\n",
    "    theoretical_quantiles = ppf(percentiles/100)\n",
    "\n",
    "    # Plot the sample quantiles against the theoretical quantiles\n",
    "    plt.scatter(theoretical_quantiles, sampling_quantiles)\n",
    "    plt.plot(theoretical_quantiles, theoretical_quantiles, color='r')\n",
    "    plt.xlabel('Theoretical Quantiles')\n",
    "    plt.ylabel('Sample Quantiles')\n",
    "    plt.title('QQ Plot')\n",
    "    plt.show()"
   ]
  },
  {
   "cell_type": "code",
   "execution_count": 308,
   "id": "8ef3912d-d402-4e7f-9f61-2adccc2f4858",
   "metadata": {},
   "outputs": [],
   "source": [
    "def KS_PIT_test(pits, threshold = 0.05, verbose=True) -> bool:\n",
    "    # Compute the KS statistics (in case of need)\n",
    "    # The null hypothesis is that the two distributions are identical\n",
    "    # Reject the null hypothesis if the pvalue < threshold\n",
    "    ks_stats = stats.kstest(pits, 'uniform')\n",
    "    reject = (ks_stats.pvalue < threshold)\n",
    "    PassFail = 'Fail' if reject else 'Pass'\n",
    "    spec = 'not'\n",
    "    m1= '#'*10+ ' Kolmogorov Smirnov PIT test ' + '#'*10\n",
    "    m2 = f'PIT test {PassFail} !!!'\n",
    "    m3 = f'Distribution is {spec} well specified'\n",
    "    m4 = f'The conditional CDF of Normalized True Values are {spec} a Uniform'\n",
    "    \n",
    "    if verbose:\n",
    "        print(m1+'\\n'+m2+'\\n'+m3+'\\n'+m4) \n",
    "    \n",
    "    return not reject"
   ]
  },
  {
   "cell_type": "code",
   "execution_count": 309,
   "id": "ee3b330f-5f44-47a8-aba2-8774fe9e9f25",
   "metadata": {},
   "outputs": [],
   "source": [
    "def RS_PIT_test(pits, threshold=0.05, part_distribution='Tails', plot=True, verbose=True) -> bool:\n",
    "    '''\n",
    "    Rossi and Shekopysan JoE 2019 PIT test\n",
    "    \n",
    "    Parameters:\n",
    "        pits: series or list: The conditional CDF of Normalized True Values \n",
    "        threshold: float. statistical test threshold. Values available [0.01, 0.05, 0.1]\n",
    "        part_distribution: str. Part of the distribution on which the specification test is conducted\n",
    "                whole Distribution                [0; 0:25]\n",
    "                Left Tail                         [0; 0:25]\n",
    "                Left Half                         [0; 0:50]\n",
    "                Right Half                        [0:50; 1]\n",
    "                Right Tail                        [0:75; 1]\n",
    "                Center                           [0:25; 0:75]\n",
    "                Tails                        [0; 0:25] + [0:75; 1]\n",
    "        plot: bool. If True, plot the empirical cuulative density function of normalized true values and compare them visually with the uniform distribution\n",
    "        The distribution is well specified if and only if the empirical plot do not exceed the Rossi and Shekopysan confidence interval\n",
    "    \n",
    "    '''\n",
    "    \n",
    "    # Data work (note that the pit are computed by default)\n",
    "    support = np.arange(0, 1, 0.01)\n",
    "\n",
    "    # Compute the ecdf on the pits\n",
    "    ecdf = ECDF(pits)\n",
    "    # Fit it on the support\n",
    "    pit_line = ecdf(support)\n",
    "    uniform_line = stats.uniform.cdf(support)\n",
    "    \n",
    "    # Confidence intervals based on Rossi and Shekopysan JoE 2019\n",
    "    confidence_interval = pd.DataFrame({\n",
    "        'part of distribution': ['whole Distribution', 'Left Tail', 'Left Half', 'Right Half', 'Right Tail', 'Center', 'Tails'],\n",
    "        'Interval': ['[0; 0:25]', '[0; 0:25]', '[0; 0:50]', '[0:50; 1]', '[0:75; 1]', '[0:25; 0:75]', '[0; 0:25] + [0:75; 1]'],\n",
    "        0.01: [1.61, 1.24, 1.54, 1.53, 1.24, 1.61, 1.33],\n",
    "        0.05: [1.34, 1.00, 1.26, 1.25, 1.00, 1.33, 1.10],\n",
    "        0.10: [1.21, 0.88, 1.12, 1.12, 0.88, 1.19, 0.99]\n",
    "    }).set_index('part of distribution')\n",
    "    \n",
    "    available_thresholds = [0.01, 0.05, 0.1] \n",
    "    available_part_distrib = confidence_interval.index\n",
    "    assert threshold in available_thresholds, f'Test only available on {available_thresholds}'\n",
    "    assert part_distribution in available_part_distrib, f\"part_distribution should belong to one of the following options {available_part_distrib}\"\n",
    "    \n",
    "    kp = confidence_interval.loc[part_distribution, threshold]/np.sqrt(len(pits))          \n",
    "    breach = any(abs(pit_line - uniform_line) > kp)\n",
    "    is_well_specified = not breach\n",
    "    PassFail='Fail' if breach else 'Pass';\n",
    "    spec = 'not' if breach else '';\n",
    "    \n",
    "    m1= '#'*10+' Rossi and Shekopysan JoE 2019 PIT test ' +'#'*10\n",
    "    m2 = f'PIT test {PassFail} !!!'\n",
    "    m3 = f'Distribution is {spec} well specified'\n",
    "    m4 = f'The conditional CDF of Normalized True Values are {spec} a Uniform'\n",
    "    \n",
    "    if verbose:\n",
    "        print(m1+'\\n'+m2+'\\n'+m3+'\\n'+m4)        \n",
    "    \n",
    "    if plot:\n",
    "        ci_u = [x+kp for x in support]\n",
    "        ci_l = [x-kp for x in support]\n",
    "        \n",
    "        fig, ax = plt.subplots(1, 1, figsize=(10,6))\n",
    "        ax.plot(support, pit_line, color='blue', label='Empirical CDF', lw=2)\n",
    "        ax.plot(support, uniform_line, color='red', label='Theoretical CDF')\n",
    "        ax.plot(support, ci_u, color='red', label=f'{int(threshold*100)}% critical values', linestyle='dashed')\n",
    "        ax.plot(support, ci_l, color='red', linestyle='dashed')\n",
    "        ax.legend()\n",
    "        ax.set_xlabel('Quantiles', labelpad=20)\n",
    "        ax.set_ylabel('Cumulative probability', labelpad=20)\n",
    "        ax.set_title(('Out-of-sample conditional density:\\n'\n",
    "                      'Probability Integral Transform (PIT) test'), y=1.02)\n",
    "        plt.show()\n",
    "    \n",
    "    return is_well_specified"
   ]
  },
  {
   "cell_type": "code",
   "execution_count": 310,
   "id": "82daf46c-a625-4db6-801d-cd2923ee4897",
   "metadata": {},
   "outputs": [],
   "source": [
    "def get_cdf_ppf_et(mod, res):\n",
    "    #### CDF and sampling estimation\n",
    "    # Important: the standardized distribution does NOT change over time. \n",
    "    # Parameters are fixed, The conditional mean and volatility change\n",
    "    # Define functions associated with conditional distribution \n",
    "    \n",
    "    if mod.distribution.name=='Normal': # No parameters\n",
    "        cond_ppf = lambda q: mod.distribution.ppf(q)\n",
    "        cond_cdf = lambda v: mod.distribution.cdf(v)\n",
    "    else:\n",
    "        dist_params = res.params[-mod.distribution.num_params:]\n",
    "        cond_ppf = lambda q: mod.distribution.ppf(q, dist_params)\n",
    "        cond_cdf = lambda v: mod.distribution.cdf(v, dist_params)\n",
    "        \n",
    "            \n",
    "    return cond_cdf, cond_ppf"
   ]
  },
  {
   "cell_type": "markdown",
   "id": "2cf93eaf-b730-486c-a4cb-60a9166a3ebf",
   "metadata": {},
   "source": [
    "### Divide and Conquer Method\n",
    "Split the Mean specification from the volatility specification"
   ]
  },
  {
   "cell_type": "code",
   "execution_count": 311,
   "id": "0c637ed3-232f-47e3-b730-4f85eeb1f0a2",
   "metadata": {},
   "outputs": [],
   "source": [
    "# Variable Declarations\n",
    "split_date = '2020-01-01'\n",
    "depvar = 'FX log returns' # 'FX/Vix'\n",
    "exog_l = models_l['Baseline']\n",
    "\n",
    "\n",
    "exog_fcast_d = {var: df_tranformed.loc[:, [var]].values for var in exog_l}\n",
    "horizon=1\n",
    "fmethod='analytic' #'simulations', 'bootstrap'\n",
    "\n",
    "vol_spec_l = [ConstantVariance(), ARCH(1), EGARCH(1,1,1), GARCH(1), GARCH(1,1), EWMAVariance(None), RiskMetrics2006()]\n",
    "vol_labels_l = ['Constant', 'ARCH', 'EGARCH', 'GARCH', 'gjrGARCH', 'EWMA', 'RiskMetric']\n",
    "\n",
    "# List of error distribution\n",
    "errdist_l = [Normal(), StudentsT(), SkewStudent(), GeneralizedError()]\n",
    "errdist_labels_l = ['Normal', 'StudentT', 'SkewStudent', 'GeneralizedError']\n",
    "\n",
    "th = 0.05"
   ]
  },
  {
   "cell_type": "markdown",
   "id": "0c62ff82-136e-442f-808a-d5bce2bdd959",
   "metadata": {},
   "source": [
    "##### Mean model"
   ]
  },
  {
   "cell_type": "code",
   "execution_count": 359,
   "id": "f1d9dcd3-0e9b-44be-b270-db83ff41cd83",
   "metadata": {
    "collapsed": true,
    "jupyter": {
     "outputs_hidden": true
    },
    "tags": []
   },
   "outputs": [
    {
     "data": {
      "text/plain": [
       "\u001b[0;31mSignature:\u001b[0m\n",
       "\u001b[0mmean_res\u001b[0m\u001b[0;34m.\u001b[0m\u001b[0mforecast\u001b[0m\u001b[0;34m(\u001b[0m\u001b[0;34m\u001b[0m\n",
       "\u001b[0;34m\u001b[0m    \u001b[0mparams\u001b[0m\u001b[0;34m:\u001b[0m \u001b[0;34m'Optional[ArrayLike1D]'\u001b[0m \u001b[0;34m=\u001b[0m \u001b[0;32mNone\u001b[0m\u001b[0;34m,\u001b[0m\u001b[0;34m\u001b[0m\n",
       "\u001b[0;34m\u001b[0m    \u001b[0mhorizon\u001b[0m\u001b[0;34m:\u001b[0m \u001b[0;34m'int'\u001b[0m \u001b[0;34m=\u001b[0m \u001b[0;36m1\u001b[0m\u001b[0;34m,\u001b[0m\u001b[0;34m\u001b[0m\n",
       "\u001b[0;34m\u001b[0m    \u001b[0mstart\u001b[0m\u001b[0;34m:\u001b[0m \u001b[0;34m'Union[int, DateLike]'\u001b[0m \u001b[0;34m=\u001b[0m \u001b[0;32mNone\u001b[0m\u001b[0;34m,\u001b[0m\u001b[0;34m\u001b[0m\n",
       "\u001b[0;34m\u001b[0m    \u001b[0malign\u001b[0m\u001b[0;34m:\u001b[0m \u001b[0;34m\"Literal['origin', 'target']\"\u001b[0m \u001b[0;34m=\u001b[0m \u001b[0;34m'origin'\u001b[0m\u001b[0;34m,\u001b[0m\u001b[0;34m\u001b[0m\n",
       "\u001b[0;34m\u001b[0m    \u001b[0mmethod\u001b[0m\u001b[0;34m:\u001b[0m \u001b[0;34m'ForecastingMethod'\u001b[0m \u001b[0;34m=\u001b[0m \u001b[0;34m'analytic'\u001b[0m\u001b[0;34m,\u001b[0m\u001b[0;34m\u001b[0m\n",
       "\u001b[0;34m\u001b[0m    \u001b[0msimulations\u001b[0m\u001b[0;34m:\u001b[0m \u001b[0;34m'int'\u001b[0m \u001b[0;34m=\u001b[0m \u001b[0;36m1000\u001b[0m\u001b[0;34m,\u001b[0m\u001b[0;34m\u001b[0m\n",
       "\u001b[0;34m\u001b[0m    \u001b[0mrng\u001b[0m\u001b[0;34m:\u001b[0m \u001b[0;34m'Optional[Callable[[Union[int, Tuple[int, ...]]], Float64Array]]'\u001b[0m \u001b[0;34m=\u001b[0m \u001b[0;32mNone\u001b[0m\u001b[0;34m,\u001b[0m\u001b[0;34m\u001b[0m\n",
       "\u001b[0;34m\u001b[0m    \u001b[0mrandom_state\u001b[0m\u001b[0;34m:\u001b[0m \u001b[0;34m'Optional[np.random.RandomState]'\u001b[0m \u001b[0;34m=\u001b[0m \u001b[0;32mNone\u001b[0m\u001b[0;34m,\u001b[0m\u001b[0;34m\u001b[0m\n",
       "\u001b[0;34m\u001b[0m    \u001b[0;34m*\u001b[0m\u001b[0;34m,\u001b[0m\u001b[0;34m\u001b[0m\n",
       "\u001b[0;34m\u001b[0m    \u001b[0mreindex\u001b[0m\u001b[0;34m:\u001b[0m \u001b[0;34m'Optional[bool]'\u001b[0m \u001b[0;34m=\u001b[0m \u001b[0;32mNone\u001b[0m\u001b[0;34m,\u001b[0m\u001b[0;34m\u001b[0m\n",
       "\u001b[0;34m\u001b[0m    \u001b[0mx\u001b[0m\u001b[0;34m:\u001b[0m \u001b[0;34m'Union[None, Dict[Label, ArrayLike], ArrayLike]'\u001b[0m \u001b[0;34m=\u001b[0m \u001b[0;32mNone\u001b[0m\u001b[0;34m,\u001b[0m\u001b[0;34m\u001b[0m\n",
       "\u001b[0;34m\u001b[0m\u001b[0;34m)\u001b[0m \u001b[0;34m->\u001b[0m \u001b[0;34m'ARCHModelForecast'\u001b[0m\u001b[0;34m\u001b[0m\u001b[0;34m\u001b[0m\u001b[0m\n",
       "\u001b[0;31mDocstring:\u001b[0m\n",
       "Construct forecasts from estimated model\n",
       "\n",
       "Parameters\n",
       "----------\n",
       "params : ndarray, optional\n",
       "    Alternative parameters to use.  If not provided, the parameters\n",
       "    estimated when fitting the model are used.  Must be identical in\n",
       "    shape to the parameters computed by fitting the model.\n",
       "horizon : int, optional\n",
       "   Number of steps to forecast\n",
       "start : {int, datetime, Timestamp, str}, optional\n",
       "    An integer, datetime or str indicating the first observation to\n",
       "    produce the forecast for.  Datetimes can only be used with pandas\n",
       "    inputs that have a datetime index. Strings must be convertible\n",
       "    to a date time, such as in '1945-01-01'.\n",
       "align : str, optional\n",
       "    Either 'origin' or 'target'.  When set of 'origin', the t-th row\n",
       "    of forecasts contains the forecasts for t+1, t+2, ..., t+h. When\n",
       "    set to 'target', the t-th row contains the 1-step ahead forecast\n",
       "    from time t-1, the 2 step from time t-2, ..., and the h-step from\n",
       "    time t-h.  'target' simplified computing forecast errors since the\n",
       "    realization and h-step forecast are aligned.\n",
       "method : {'analytic', 'simulation', 'bootstrap'}, optional\n",
       "    Method to use when producing the forecast. The default is analytic.\n",
       "    The method only affects the variance forecast generation.  Not all\n",
       "    volatility models support all methods. In particular, volatility\n",
       "    models that do not evolve in squares such as EGARCH or TARCH do not\n",
       "    support the 'analytic' method for horizons > 1.\n",
       "simulations : int, optional\n",
       "    Number of simulations to run when computing the forecast using\n",
       "    either simulation or bootstrap.\n",
       "rng : callable, optional\n",
       "    Custom random number generator to use in simulation-based forecasts.\n",
       "    Must produce random samples using the syntax `rng(size)` where size\n",
       "    the 2-element tuple (simulations, horizon).\n",
       "random_state : RandomState, optional\n",
       "    NumPy RandomState instance to use when method is 'bootstrap'\n",
       "reindex : bool, optional\n",
       "    Whether to reindex the forecasts to have the same dimension as the series\n",
       "    being forecast. Prior to 4.18 this was the default. As of 4.19 this is\n",
       "    now optional. If not provided, a warning is raised about the future\n",
       "    change in the default which will occur after September 2021.\n",
       "\n",
       "    .. versionadded:: 4.19\n",
       "\n",
       "x : {dict[label, array_like], array_like}\n",
       "    Values to use for exogenous regressors if any are included in the\n",
       "    model. Three formats are accepted:\n",
       "\n",
       "    * 2-d array-like: This format can be used when there is a single\n",
       "      exogenous variable. The input must have shape (nforecast, horizon)\n",
       "      or (nobs, horizon) where nforecast is the number of forecasting\n",
       "      periods and nobs is the original shape of y. For example, if a\n",
       "      single series of forecasts are made from the end of the sample\n",
       "      with a horizon of 10, then the input can be (1, 10). Alternatively,\n",
       "      if the original data had 1000 observations, then the input can be\n",
       "      (1000, 10), and only the final row is used to produce forecasts.\n",
       "    * A dictionary of 2-d array-like: This format is identical to the\n",
       "      previous except that the dictionary keys must match the names of\n",
       "      the exog variables.  Requires that the exog variables were pass\n",
       "      as a pandas DataFrame.\n",
       "    * A 3-d NumPy array (or equivalent). In this format, each panel\n",
       "      (0th axis) is a 2-d array that must have shape (nforecast, horizon)\n",
       "      or (nobs,horizon). The array x[j] corresponds to the j-th column of\n",
       "      the exogenous variables.\n",
       "\n",
       "    Due to the complexity required to accommodate all scenarios, please\n",
       "    see the example notebook that demonstrates the valid formats for\n",
       "    x.\n",
       "\n",
       "    .. versionadded:: 4.19\n",
       "\n",
       "Returns\n",
       "-------\n",
       "arch.univariate.base.ARCHModelForecast\n",
       "    Container for forecasts. Key properties are ``mean``,\n",
       "    ``variance`` and ``residual_variance``.\n",
       "\n",
       "Notes\n",
       "-----\n",
       "The most basic 1-step ahead forecast will return a vector with the same\n",
       "length as the original data, where the t-th value will be the time-t\n",
       "forecast for time t + 1.  When the horizon is > 1, and when using the\n",
       "default value for `align`, the forecast value in position [t, h] is the\n",
       "time-t, h+1 step ahead forecast.\n",
       "\n",
       "If model contains exogenous variables (`model.x is not None`), then\n",
       "only 1-step ahead forecasts are available.  Using horizon > 1 will\n",
       "produce a warning and all columns, except the first, will be\n",
       "nan-filled.\n",
       "\n",
       "If `align` is 'origin', forecast[t,h] contains the forecast made using\n",
       "y[:t] (that is, up to but not including t) for horizon h + 1.  For\n",
       "example, y[100,2] contains the 3-step ahead forecast using the first\n",
       "100 data points, which will correspond to the realization y[100 + 2].\n",
       "If `align` is 'target', then the same forecast is in location\n",
       "[102, 2], so that it is aligned with the observation to use when\n",
       "evaluating, but still in the same column.\n",
       "\u001b[0;31mFile:\u001b[0m      ~/Documents/Projects/varfxi/.venv/lib/python3.9/site-packages/arch/univariate/base.py\n",
       "\u001b[0;31mType:\u001b[0m      method"
      ]
     },
     "metadata": {},
     "output_type": "display_data"
    }
   ],
   "source": [
    "mean_res.forecast()"
   ]
  },
  {
   "cell_type": "code",
   "execution_count": 358,
   "id": "523481dd-26c3-4e4c-aa39-429c5b2e5ad6",
   "metadata": {},
   "outputs": [
    {
     "name": "stdout",
     "output_type": "stream",
     "text": [
      "                    AR-X - Constant Variance Model Results                    \n",
      "==============================================================================\n",
      "Dep. Variable:         FX log returns   R-squared:                       0.287\n",
      "Mean Model:                      AR-X   Adj. R-squared:                  0.285\n",
      "Vol Model:          Constant Variance   Log-Likelihood:               -31378.4\n",
      "Distribution:                  Normal   AIC:                           62780.9\n",
      "Method:            Maximum Likelihood   BIC:                           62860.6\n",
      "                                        No. Observations:                 5675\n",
      "Date:                Thu, Apr 13 2023   Df Residuals:                     5664\n",
      "Time:                        11:28:19   Df Model:                           11\n",
      "                                             Mean Model                                            \n",
      "===================================================================================================\n",
      "                                      coef    std err          t      P>|t|        95.0% Conf. Int.\n",
      "---------------------------------------------------------------------------------------------------\n",
      "Const                              -5.6900      2.705     -2.104  3.542e-02       [-10.992, -0.388]\n",
      "FX l...rns[1]                      -0.0474  2.395e-02     -1.978  4.789e-02 [-9.431e-02,-4.395e-04]\n",
      "FX l...rns[8]                       0.0380  1.716e-02      2.212  2.698e-02   [4.322e-03,7.160e-02]\n",
      "Bid ask abs                        32.2001     80.932      0.398      0.691  [-1.264e+02,1.908e+02]\n",
      "Min max abs                        50.3704     28.051      1.796  7.254e-02     [ -4.608,1.053e+02]\n",
      "Forward points first difference    29.7257      4.707      6.315  2.694e-10       [ 20.500, 38.951]\n",
      "Interbank rate vs Libor            30.4141      9.324      3.262  1.106e-03       [ 12.140, 48.688]\n",
      "EURUSD log returns                 -0.2196  1.731e-02    -12.685  7.152e-37       [ -0.254, -0.186]\n",
      "VIX first diff                     15.9357      1.008     15.807  2.766e-56       [ 13.960, 17.912]\n",
      "Oil prices log returns             -0.0208  4.810e-03     -4.323  1.537e-05 [-3.022e-02,-1.137e-02]\n",
      "FX intervention dummy lag         -10.2143      5.903     -1.730  8.358e-02       [-21.785,  1.356]\n",
      "                              Volatility Model                              \n",
      "============================================================================\n",
      "                 coef    std err          t      P>|t|      95.0% Conf. Int.\n",
      "----------------------------------------------------------------------------\n",
      "sigma2      3716.7383    162.219     22.912 3.542e-116 [3.399e+03,4.035e+03]\n",
      "============================================================================\n",
      "\n",
      "Covariance estimator: White's Heteroskedasticity Consistent Estimator\n"
     ]
    }
   ],
   "source": [
    "# it can be any model. Here we chose an ARX \n",
    "mean_mod = ARX(df_tranformed[depvar], \n",
    "               x = df_tranformed[exog_l], \n",
    "               lags=[1, 8], \n",
    "              volatility=ConstantVariance(), \n",
    "              distribution =Normal())\n",
    "mean_res = mean_mod.fit(disp=\"off\")\n",
    "print(mean_res.summary())"
   ]
  },
  {
   "cell_type": "markdown",
   "id": "fa407032-f0bb-4dcb-ba34-307778ff9f34",
   "metadata": {},
   "source": [
    "##### Extract residuals to model separately"
   ]
  },
  {
   "cell_type": "code",
   "execution_count": 314,
   "id": "3202dc7e-75f6-4533-aa9a-8e1c891d7225",
   "metadata": {},
   "outputs": [
    {
     "name": "stdout",
     "output_type": "stream",
     "text": [
      "mean =  0.0\n",
      "std =  60.97\n",
      "variance =  3717.39\n",
      "skew =  0.13\n",
      "kurt =  8.82\n",
      "As expected residuals have high skewness and fat tails\n"
     ]
    }
   ],
   "source": [
    "epsilon = mean_res.resid.dropna()\n",
    "moments = {'mean': epsilon.mean(), \n",
    "           'std':epsilon.std(), 'variance':epsilon.var(),\n",
    "           'skew':epsilon.skew(), \n",
    "          'kurt':epsilon.kurt()}\n",
    "for k, v in moments.items():\n",
    "    print(f'{k} =  {np.round(v,2)}')\n",
    "print('As expected residuals have high skewness and fat tails')"
   ]
  },
  {
   "cell_type": "markdown",
   "id": "a6120950-aac0-457e-aae1-8d647672e490",
   "metadata": {},
   "source": [
    "##### Model residuals with GARCH"
   ]
  },
  {
   "cell_type": "code",
   "execution_count": 325,
   "id": "06ae9644-a89e-46f9-aa10-269bc38adb5f",
   "metadata": {},
   "outputs": [
    {
     "name": "stdout",
     "output_type": "stream",
     "text": [
      "                           Zero Mean - GJR-GARCH Model Results                           \n",
      "=========================================================================================\n",
      "Dep. Variable:                             resid   R-squared:                       0.000\n",
      "Mean Model:                            Zero Mean   Adj. R-squared:                  0.000\n",
      "Vol Model:                             GJR-GARCH   Log-Likelihood:               -30474.6\n",
      "Distribution:      Standardized Skew Student's t   AIC:                           60961.1\n",
      "Method:                       Maximum Likelihood   BIC:                           61001.0\n",
      "                                                   No. Observations:                 5675\n",
      "Date:                           Thu, Apr 13 2023   Df Residuals:                     5675\n",
      "Time:                                   10:25:31   Df Model:                            0\n",
      "                               Volatility Model                               \n",
      "==============================================================================\n",
      "                 coef    std err          t      P>|t|        95.0% Conf. Int.\n",
      "------------------------------------------------------------------------------\n",
      "omega         27.7574      9.723      2.855  4.307e-03       [  8.700, 46.814]\n",
      "alpha[1]       0.0953  1.620e-02      5.881  4.066e-09     [6.353e-02,  0.127]\n",
      "gamma[1]      -0.0564  1.201e-02     -4.692  2.703e-06 [-7.989e-02,-3.281e-02]\n",
      "beta[1]        0.9258  1.340e-02     69.069      0.000       [  0.900,  0.952]\n",
      "                                 Distribution                                \n",
      "=============================================================================\n",
      "                 coef    std err          t      P>|t|       95.0% Conf. Int.\n",
      "-----------------------------------------------------------------------------\n",
      "eta            8.7500      0.965      9.072  1.169e-19      [  6.860, 10.640]\n",
      "lambda         0.0303  1.873e-02      1.620      0.105 [-6.360e-03,6.706e-02]\n",
      "=============================================================================\n",
      "\n",
      "Covariance estimator: robust\n"
     ]
    }
   ],
   "source": [
    "vol_mod = ZeroMean(epsilon, volatility=GARCH(1,1,1), distribution=SkewStudent())\n",
    "vol_res = vol_mod.fit(disp='off')\n",
    "print(vol_res.summary())"
   ]
  },
  {
   "cell_type": "code",
   "execution_count": 365,
   "id": "66c92d2a-09c4-4aed-9612-d53ef53ea202",
   "metadata": {},
   "outputs": [
    {
     "data": {
      "text/plain": [
       "date\n",
       "1999-01-14    60.965058\n",
       "1999-01-15    60.965058\n",
       "1999-01-18    60.965058\n",
       "1999-01-19    60.965058\n",
       "1999-01-20    60.965058\n",
       "                ...    \n",
       "2020-10-08    60.965058\n",
       "2020-10-09    60.965058\n",
       "2020-10-12    60.965058\n",
       "2020-10-13    60.965058\n",
       "2020-10-14    60.965058\n",
       "Name: cond_vol, Length: 5675, dtype: float64"
      ]
     },
     "execution_count": 365,
     "metadata": {},
     "output_type": "execute_result"
    }
   ],
   "source": [
    "mean_res.conditional_volatility.dropna()"
   ]
  },
  {
   "cell_type": "code",
   "execution_count": 374,
   "id": "15ae2497-2970-4d30-bc81-d195885a2bc9",
   "metadata": {
    "tags": []
   },
   "outputs": [
    {
     "name": "stderr",
     "output_type": "stream",
     "text": [
      "/home/ubuntu/Documents/Projects/varfxi/.venv/lib/python3.9/site-packages/arch/__future__/_utility.py:11: FutureWarning: \n",
      "The default for reindex is True. After September 2021 this will change to\n",
      "False. Set reindex to True or False to silence this message. Alternatively,\n",
      "you can use the import comment\n",
      "\n",
      "from arch.__future__ import reindexing\n",
      "\n",
      "to globally set reindex to True and silence this warning.\n",
      "\n",
      "  warnings.warn(\n"
     ]
    }
   ],
   "source": [
    "lags = [1, 8]\n",
    "final_model_spec = ARX(df_tranformed[depvar], \n",
    "                       x = df_tranformed[exog_l], \n",
    "                       lags=lags, \n",
    "                       volatility=GARCH(1,1,1),\n",
    "                       distribution=SkewStudent())\n",
    "params=pd.concat([mean_res.params.drop('sigma2'), vol_res.params])\n",
    "final_model = final_model_spec.fix(params=params, first_obs=max(lags))\n",
    "exog_fcast_d = {}\n",
    "for var in exog_l:\n",
    "    exog_fcast_d[var] = df_tranformed.loc[:, [var]].values\n",
    "forecasts = final_model.forecast(horizon=1,x=exog_fcast_d)"
   ]
  },
  {
   "cell_type": "code",
   "execution_count": 378,
   "id": "1e244eb1-4121-4103-966f-9e6801af4eef",
   "metadata": {},
   "outputs": [
    {
     "ename": "AttributeError",
     "evalue": "'ARCHModelFixedResult' object has no attribute 'pvalue'",
     "output_type": "error",
     "traceback": [
      "\u001b[0;31m---------------------------------------------------------------------------\u001b[0m",
      "\u001b[0;31mAttributeError\u001b[0m                            Traceback (most recent call last)",
      "Cell \u001b[0;32mIn[378], line 1\u001b[0m\n\u001b[0;32m----> 1\u001b[0m \u001b[43mfinal_model\u001b[49m\u001b[38;5;241;43m.\u001b[39;49m\u001b[43mpvalue\u001b[49m\n",
      "\u001b[0;31mAttributeError\u001b[0m: 'ARCHModelFixedResult' object has no attribute 'pvalue'"
     ]
    }
   ],
   "source": [
    "final_model.pvalue"
   ]
  },
  {
   "cell_type": "code",
   "execution_count": 370,
   "id": "97a58521-2311-4fd4-a36f-eb9974077310",
   "metadata": {},
   "outputs": [
    {
     "data": {
      "text/plain": [
       "\u001b[0;31mSignature:\u001b[0m\n",
       "\u001b[0mfinal_model_spec\u001b[0m\u001b[0;34m.\u001b[0m\u001b[0mfix\u001b[0m\u001b[0;34m(\u001b[0m\u001b[0;34m\u001b[0m\n",
       "\u001b[0;34m\u001b[0m    \u001b[0mparams\u001b[0m\u001b[0;34m:\u001b[0m \u001b[0;34m'Union[Sequence[float], ArrayLike1D]'\u001b[0m\u001b[0;34m,\u001b[0m\u001b[0;34m\u001b[0m\n",
       "\u001b[0;34m\u001b[0m    \u001b[0mfirst_obs\u001b[0m\u001b[0;34m:\u001b[0m \u001b[0;34m'Union[int, DateLike]'\u001b[0m \u001b[0;34m=\u001b[0m \u001b[0;32mNone\u001b[0m\u001b[0;34m,\u001b[0m\u001b[0;34m\u001b[0m\n",
       "\u001b[0;34m\u001b[0m    \u001b[0mlast_obs\u001b[0m\u001b[0;34m:\u001b[0m \u001b[0;34m'Union[int, DateLike]'\u001b[0m \u001b[0;34m=\u001b[0m \u001b[0;32mNone\u001b[0m\u001b[0;34m,\u001b[0m\u001b[0;34m\u001b[0m\n",
       "\u001b[0;34m\u001b[0m\u001b[0;34m)\u001b[0m \u001b[0;34m->\u001b[0m \u001b[0;34m'ARCHModelFixedResult'\u001b[0m\u001b[0;34m\u001b[0m\u001b[0;34m\u001b[0m\u001b[0m\n",
       "\u001b[0;31mDocstring:\u001b[0m\n",
       "Allows an ARCHModelFixedResult to be constructed from fixed parameters.\n",
       "\n",
       "Parameters\n",
       "----------\n",
       "params : {ndarray, Series}\n",
       "    User specified parameters to use when generating the result. Must\n",
       "    have the correct number of parameters for a given choice of mean\n",
       "    model, volatility model and distribution.\n",
       "first_obs : {int, str, datetime, Timestamp}\n",
       "    First observation to use when fixing model\n",
       "last_obs : {int, str, datetime, Timestamp}\n",
       "    Last observation to use when fixing model\n",
       "\n",
       "Returns\n",
       "-------\n",
       "results : ARCHModelFixedResult\n",
       "    Object containing model results\n",
       "\n",
       "Notes\n",
       "-----\n",
       "Parameters are not checked against model-specific constraints.\n",
       "\u001b[0;31mFile:\u001b[0m      ~/Documents/Projects/varfxi/.venv/lib/python3.9/site-packages/arch/univariate/base.py\n",
       "\u001b[0;31mType:\u001b[0m      method"
      ]
     },
     "metadata": {},
     "output_type": "display_data"
    }
   ],
   "source": [
    "final_model_spec.f"
   ]
  },
  {
   "cell_type": "code",
   "execution_count": 369,
   "id": "0384491a-09ac-43bc-a019-e0736bf240ad",
   "metadata": {},
   "outputs": [
    {
     "ename": "ValueError",
     "evalue": "Length of values (5667) does not match length of index (5675)",
     "output_type": "error",
     "traceback": [
      "\u001b[0;31m---------------------------------------------------------------------------\u001b[0m",
      "\u001b[0;31mValueError\u001b[0m                                Traceback (most recent call last)",
      "Cell \u001b[0;32mIn[369], line 1\u001b[0m\n\u001b[0;32m----> 1\u001b[0m \u001b[43mfinal_model\u001b[49m\u001b[38;5;241;43m.\u001b[39;49m\u001b[43mconditional_volatility\u001b[49m\n",
      "File \u001b[0;32m~/Documents/Projects/varfxi/.venv/lib/python3.9/site-packages/arch/vendor/property_cached.py:71\u001b[0m, in \u001b[0;36mcached_property.__get__\u001b[0;34m(self, obj, cls)\u001b[0m\n\u001b[1;32m     69\u001b[0m value \u001b[38;5;241m=\u001b[39m \u001b[38;5;28mself\u001b[39m\u001b[38;5;241m.\u001b[39mcache\u001b[38;5;241m.\u001b[39mget(obj, \u001b[38;5;28mself\u001b[39m\u001b[38;5;241m.\u001b[39m_sentinel)\n\u001b[1;32m     70\u001b[0m \u001b[38;5;28;01mif\u001b[39;00m value \u001b[38;5;129;01mis\u001b[39;00m \u001b[38;5;28mself\u001b[39m\u001b[38;5;241m.\u001b[39m_sentinel:\n\u001b[0;32m---> 71\u001b[0m     value \u001b[38;5;241m=\u001b[39m \u001b[38;5;28mself\u001b[39m\u001b[38;5;241m.\u001b[39mcache[obj] \u001b[38;5;241m=\u001b[39m \u001b[38;5;28;43mself\u001b[39;49m\u001b[38;5;241;43m.\u001b[39;49m\u001b[43mfunc\u001b[49m\u001b[43m(\u001b[49m\u001b[43mobj\u001b[49m\u001b[43m)\u001b[49m\n\u001b[1;32m     73\u001b[0m \u001b[38;5;28;01mreturn\u001b[39;00m value\n",
      "File \u001b[0;32m~/Documents/Projects/varfxi/.venv/lib/python3.9/site-packages/arch/univariate/base.py:1276\u001b[0m, in \u001b[0;36mARCHModelFixedResult.conditional_volatility\u001b[0;34m(self)\u001b[0m\n\u001b[1;32m   1264\u001b[0m \u001b[38;5;250m\u001b[39m\u001b[38;5;124;03m\"\"\"\u001b[39;00m\n\u001b[1;32m   1265\u001b[0m \u001b[38;5;124;03mEstimated conditional volatility\u001b[39;00m\n\u001b[1;32m   1266\u001b[0m \n\u001b[0;32m   (...)\u001b[0m\n\u001b[1;32m   1273\u001b[0m \u001b[38;5;124;03m    of t-th error, which is computed using time-(t-1) information.\u001b[39;00m\n\u001b[1;32m   1274\u001b[0m \u001b[38;5;124;03m\"\"\"\u001b[39;00m\n\u001b[1;32m   1275\u001b[0m \u001b[38;5;28;01mif\u001b[39;00m \u001b[38;5;28mself\u001b[39m\u001b[38;5;241m.\u001b[39m_is_pandas:\n\u001b[0;32m-> 1276\u001b[0m     \u001b[38;5;28;01mreturn\u001b[39;00m \u001b[43mpd\u001b[49m\u001b[38;5;241;43m.\u001b[39;49m\u001b[43mSeries\u001b[49m\u001b[43m(\u001b[49m\u001b[38;5;28;43mself\u001b[39;49m\u001b[38;5;241;43m.\u001b[39;49m\u001b[43m_volatility\u001b[49m\u001b[43m,\u001b[49m\u001b[43m \u001b[49m\u001b[43mname\u001b[49m\u001b[38;5;241;43m=\u001b[39;49m\u001b[38;5;124;43m\"\u001b[39;49m\u001b[38;5;124;43mcond_vol\u001b[39;49m\u001b[38;5;124;43m\"\u001b[39;49m\u001b[43m,\u001b[49m\u001b[43m \u001b[49m\u001b[43mindex\u001b[49m\u001b[38;5;241;43m=\u001b[39;49m\u001b[38;5;28;43mself\u001b[39;49m\u001b[38;5;241;43m.\u001b[39;49m\u001b[43m_index\u001b[49m\u001b[43m)\u001b[49m\n\u001b[1;32m   1277\u001b[0m \u001b[38;5;28;01melse\u001b[39;00m:\n\u001b[1;32m   1278\u001b[0m     \u001b[38;5;28;01mreturn\u001b[39;00m \u001b[38;5;28mself\u001b[39m\u001b[38;5;241m.\u001b[39m_volatility\n",
      "File \u001b[0;32m~/Documents/Projects/varfxi/.venv/lib/python3.9/site-packages/pandas/core/series.py:461\u001b[0m, in \u001b[0;36mSeries.__init__\u001b[0;34m(self, data, index, dtype, name, copy, fastpath)\u001b[0m\n\u001b[1;32m    459\u001b[0m     index \u001b[38;5;241m=\u001b[39m default_index(\u001b[38;5;28mlen\u001b[39m(data))\n\u001b[1;32m    460\u001b[0m \u001b[38;5;28;01melif\u001b[39;00m is_list_like(data):\n\u001b[0;32m--> 461\u001b[0m     \u001b[43mcom\u001b[49m\u001b[38;5;241;43m.\u001b[39;49m\u001b[43mrequire_length_match\u001b[49m\u001b[43m(\u001b[49m\u001b[43mdata\u001b[49m\u001b[43m,\u001b[49m\u001b[43m \u001b[49m\u001b[43mindex\u001b[49m\u001b[43m)\u001b[49m\n\u001b[1;32m    463\u001b[0m \u001b[38;5;66;03m# create/copy the manager\u001b[39;00m\n\u001b[1;32m    464\u001b[0m \u001b[38;5;28;01mif\u001b[39;00m \u001b[38;5;28misinstance\u001b[39m(data, (SingleBlockManager, SingleArrayManager)):\n",
      "File \u001b[0;32m~/Documents/Projects/varfxi/.venv/lib/python3.9/site-packages/pandas/core/common.py:571\u001b[0m, in \u001b[0;36mrequire_length_match\u001b[0;34m(data, index)\u001b[0m\n\u001b[1;32m    567\u001b[0m \u001b[38;5;250m\u001b[39m\u001b[38;5;124;03m\"\"\"\u001b[39;00m\n\u001b[1;32m    568\u001b[0m \u001b[38;5;124;03mCheck the length of data matches the length of the index.\u001b[39;00m\n\u001b[1;32m    569\u001b[0m \u001b[38;5;124;03m\"\"\"\u001b[39;00m\n\u001b[1;32m    570\u001b[0m \u001b[38;5;28;01mif\u001b[39;00m \u001b[38;5;28mlen\u001b[39m(data) \u001b[38;5;241m!=\u001b[39m \u001b[38;5;28mlen\u001b[39m(index):\n\u001b[0;32m--> 571\u001b[0m     \u001b[38;5;28;01mraise\u001b[39;00m \u001b[38;5;167;01mValueError\u001b[39;00m(\n\u001b[1;32m    572\u001b[0m         \u001b[38;5;124m\"\u001b[39m\u001b[38;5;124mLength of values \u001b[39m\u001b[38;5;124m\"\u001b[39m\n\u001b[1;32m    573\u001b[0m         \u001b[38;5;124mf\u001b[39m\u001b[38;5;124m\"\u001b[39m\u001b[38;5;124m(\u001b[39m\u001b[38;5;132;01m{\u001b[39;00m\u001b[38;5;28mlen\u001b[39m(data)\u001b[38;5;132;01m}\u001b[39;00m\u001b[38;5;124m) \u001b[39m\u001b[38;5;124m\"\u001b[39m\n\u001b[1;32m    574\u001b[0m         \u001b[38;5;124m\"\u001b[39m\u001b[38;5;124mdoes not match length of index \u001b[39m\u001b[38;5;124m\"\u001b[39m\n\u001b[1;32m    575\u001b[0m         \u001b[38;5;124mf\u001b[39m\u001b[38;5;124m\"\u001b[39m\u001b[38;5;124m(\u001b[39m\u001b[38;5;132;01m{\u001b[39;00m\u001b[38;5;28mlen\u001b[39m(index)\u001b[38;5;132;01m}\u001b[39;00m\u001b[38;5;124m)\u001b[39m\u001b[38;5;124m\"\u001b[39m\n\u001b[1;32m    576\u001b[0m     )\n",
      "\u001b[0;31mValueError\u001b[0m: Length of values (5667) does not match length of index (5675)"
     ]
    }
   ],
   "source": []
  },
  {
   "cell_type": "code",
   "execution_count": 352,
   "id": "2e6c84f9-faf9-45ba-8b2f-5e1930835ea1",
   "metadata": {},
   "outputs": [
    {
     "ename": "ValueError",
     "evalue": "Length of values (5675) does not match length of index (5683)",
     "output_type": "error",
     "traceback": [
      "\u001b[0;31m---------------------------------------------------------------------------\u001b[0m",
      "\u001b[0;31mValueError\u001b[0m                                Traceback (most recent call last)",
      "Cell \u001b[0;32mIn[352], line 1\u001b[0m\n\u001b[0;32m----> 1\u001b[0m \u001b[43mfinal_model\u001b[49m\u001b[38;5;241;43m.\u001b[39;49m\u001b[43march_lm_test\u001b[49m\u001b[43m(\u001b[49m\u001b[43m)\u001b[49m\n",
      "File \u001b[0;32m~/Documents/Projects/varfxi/.venv/lib/python3.9/site-packages/arch/univariate/base.py:1661\u001b[0m, in \u001b[0;36mARCHModelFixedResult.arch_lm_test\u001b[0;34m(self, lags, standardized)\u001b[0m\n\u001b[1;32m   1641\u001b[0m \u001b[38;5;28;01mdef\u001b[39;00m \u001b[38;5;21march_lm_test\u001b[39m(\n\u001b[1;32m   1642\u001b[0m     \u001b[38;5;28mself\u001b[39m, lags: Optional[\u001b[38;5;28mint\u001b[39m] \u001b[38;5;241m=\u001b[39m \u001b[38;5;28;01mNone\u001b[39;00m, standardized: \u001b[38;5;28mbool\u001b[39m \u001b[38;5;241m=\u001b[39m \u001b[38;5;28;01mFalse\u001b[39;00m\n\u001b[1;32m   1643\u001b[0m ) \u001b[38;5;241m-\u001b[39m\u001b[38;5;241m>\u001b[39m WaldTestStatistic:\n\u001b[1;32m   1644\u001b[0m \u001b[38;5;250m    \u001b[39m\u001b[38;5;124;03m\"\"\"\u001b[39;00m\n\u001b[1;32m   1645\u001b[0m \u001b[38;5;124;03m    ARCH LM test for conditional heteroskedasticity\u001b[39;00m\n\u001b[1;32m   1646\u001b[0m \n\u001b[0;32m   (...)\u001b[0m\n\u001b[1;32m   1659\u001b[0m \u001b[38;5;124;03m        Result of ARCH-LM test\u001b[39;00m\n\u001b[1;32m   1660\u001b[0m \u001b[38;5;124;03m    \"\"\"\u001b[39;00m\n\u001b[0;32m-> 1661\u001b[0m     resids \u001b[38;5;241m=\u001b[39m \u001b[38;5;28;43mself\u001b[39;49m\u001b[38;5;241;43m.\u001b[39;49m\u001b[43mresid\u001b[49m\n\u001b[1;32m   1662\u001b[0m     nobs \u001b[38;5;241m=\u001b[39m resids\u001b[38;5;241m.\u001b[39mshape[\u001b[38;5;241m0\u001b[39m]\n\u001b[1;32m   1663\u001b[0m     \u001b[38;5;28;01mif\u001b[39;00m standardized:\n",
      "File \u001b[0;32m~/Documents/Projects/varfxi/.venv/lib/python3.9/site-packages/arch/vendor/property_cached.py:71\u001b[0m, in \u001b[0;36mcached_property.__get__\u001b[0;34m(self, obj, cls)\u001b[0m\n\u001b[1;32m     69\u001b[0m value \u001b[38;5;241m=\u001b[39m \u001b[38;5;28mself\u001b[39m\u001b[38;5;241m.\u001b[39mcache\u001b[38;5;241m.\u001b[39mget(obj, \u001b[38;5;28mself\u001b[39m\u001b[38;5;241m.\u001b[39m_sentinel)\n\u001b[1;32m     70\u001b[0m \u001b[38;5;28;01mif\u001b[39;00m value \u001b[38;5;129;01mis\u001b[39;00m \u001b[38;5;28mself\u001b[39m\u001b[38;5;241m.\u001b[39m_sentinel:\n\u001b[0;32m---> 71\u001b[0m     value \u001b[38;5;241m=\u001b[39m \u001b[38;5;28mself\u001b[39m\u001b[38;5;241m.\u001b[39mcache[obj] \u001b[38;5;241m=\u001b[39m \u001b[38;5;28;43mself\u001b[39;49m\u001b[38;5;241;43m.\u001b[39;49m\u001b[43mfunc\u001b[49m\u001b[43m(\u001b[49m\u001b[43mobj\u001b[49m\u001b[43m)\u001b[49m\n\u001b[1;32m     73\u001b[0m \u001b[38;5;28;01mreturn\u001b[39;00m value\n",
      "File \u001b[0;32m~/Documents/Projects/varfxi/.venv/lib/python3.9/site-packages/arch/univariate/base.py:1293\u001b[0m, in \u001b[0;36mARCHModelFixedResult.resid\u001b[0;34m(self)\u001b[0m\n\u001b[1;32m   1289\u001b[0m \u001b[38;5;250m\u001b[39m\u001b[38;5;124;03m\"\"\"\u001b[39;00m\n\u001b[1;32m   1290\u001b[0m \u001b[38;5;124;03mModel residuals\u001b[39;00m\n\u001b[1;32m   1291\u001b[0m \u001b[38;5;124;03m\"\"\"\u001b[39;00m\n\u001b[1;32m   1292\u001b[0m \u001b[38;5;28;01mif\u001b[39;00m \u001b[38;5;28mself\u001b[39m\u001b[38;5;241m.\u001b[39m_is_pandas:\n\u001b[0;32m-> 1293\u001b[0m     \u001b[38;5;28;01mreturn\u001b[39;00m \u001b[43mpd\u001b[49m\u001b[38;5;241;43m.\u001b[39;49m\u001b[43mSeries\u001b[49m\u001b[43m(\u001b[49m\u001b[38;5;28;43mself\u001b[39;49m\u001b[38;5;241;43m.\u001b[39;49m\u001b[43m_resid\u001b[49m\u001b[43m,\u001b[49m\u001b[43m \u001b[49m\u001b[43mname\u001b[49m\u001b[38;5;241;43m=\u001b[39;49m\u001b[38;5;124;43m\"\u001b[39;49m\u001b[38;5;124;43mresid\u001b[39;49m\u001b[38;5;124;43m\"\u001b[39;49m\u001b[43m,\u001b[49m\u001b[43m \u001b[49m\u001b[43mindex\u001b[49m\u001b[38;5;241;43m=\u001b[39;49m\u001b[38;5;28;43mself\u001b[39;49m\u001b[38;5;241;43m.\u001b[39;49m\u001b[43m_index\u001b[49m\u001b[43m)\u001b[49m\n\u001b[1;32m   1294\u001b[0m \u001b[38;5;28;01melse\u001b[39;00m:\n\u001b[1;32m   1295\u001b[0m     \u001b[38;5;28;01mreturn\u001b[39;00m \u001b[38;5;28mself\u001b[39m\u001b[38;5;241m.\u001b[39m_resid\n",
      "File \u001b[0;32m~/Documents/Projects/varfxi/.venv/lib/python3.9/site-packages/pandas/core/series.py:461\u001b[0m, in \u001b[0;36mSeries.__init__\u001b[0;34m(self, data, index, dtype, name, copy, fastpath)\u001b[0m\n\u001b[1;32m    459\u001b[0m     index \u001b[38;5;241m=\u001b[39m default_index(\u001b[38;5;28mlen\u001b[39m(data))\n\u001b[1;32m    460\u001b[0m \u001b[38;5;28;01melif\u001b[39;00m is_list_like(data):\n\u001b[0;32m--> 461\u001b[0m     \u001b[43mcom\u001b[49m\u001b[38;5;241;43m.\u001b[39;49m\u001b[43mrequire_length_match\u001b[49m\u001b[43m(\u001b[49m\u001b[43mdata\u001b[49m\u001b[43m,\u001b[49m\u001b[43m \u001b[49m\u001b[43mindex\u001b[49m\u001b[43m)\u001b[49m\n\u001b[1;32m    463\u001b[0m \u001b[38;5;66;03m# create/copy the manager\u001b[39;00m\n\u001b[1;32m    464\u001b[0m \u001b[38;5;28;01mif\u001b[39;00m \u001b[38;5;28misinstance\u001b[39m(data, (SingleBlockManager, SingleArrayManager)):\n",
      "File \u001b[0;32m~/Documents/Projects/varfxi/.venv/lib/python3.9/site-packages/pandas/core/common.py:571\u001b[0m, in \u001b[0;36mrequire_length_match\u001b[0;34m(data, index)\u001b[0m\n\u001b[1;32m    567\u001b[0m \u001b[38;5;250m\u001b[39m\u001b[38;5;124;03m\"\"\"\u001b[39;00m\n\u001b[1;32m    568\u001b[0m \u001b[38;5;124;03mCheck the length of data matches the length of the index.\u001b[39;00m\n\u001b[1;32m    569\u001b[0m \u001b[38;5;124;03m\"\"\"\u001b[39;00m\n\u001b[1;32m    570\u001b[0m \u001b[38;5;28;01mif\u001b[39;00m \u001b[38;5;28mlen\u001b[39m(data) \u001b[38;5;241m!=\u001b[39m \u001b[38;5;28mlen\u001b[39m(index):\n\u001b[0;32m--> 571\u001b[0m     \u001b[38;5;28;01mraise\u001b[39;00m \u001b[38;5;167;01mValueError\u001b[39;00m(\n\u001b[1;32m    572\u001b[0m         \u001b[38;5;124m\"\u001b[39m\u001b[38;5;124mLength of values \u001b[39m\u001b[38;5;124m\"\u001b[39m\n\u001b[1;32m    573\u001b[0m         \u001b[38;5;124mf\u001b[39m\u001b[38;5;124m\"\u001b[39m\u001b[38;5;124m(\u001b[39m\u001b[38;5;132;01m{\u001b[39;00m\u001b[38;5;28mlen\u001b[39m(data)\u001b[38;5;132;01m}\u001b[39;00m\u001b[38;5;124m) \u001b[39m\u001b[38;5;124m\"\u001b[39m\n\u001b[1;32m    574\u001b[0m         \u001b[38;5;124m\"\u001b[39m\u001b[38;5;124mdoes not match length of index \u001b[39m\u001b[38;5;124m\"\u001b[39m\n\u001b[1;32m    575\u001b[0m         \u001b[38;5;124mf\u001b[39m\u001b[38;5;124m\"\u001b[39m\u001b[38;5;124m(\u001b[39m\u001b[38;5;132;01m{\u001b[39;00m\u001b[38;5;28mlen\u001b[39m(index)\u001b[38;5;132;01m}\u001b[39;00m\u001b[38;5;124m)\u001b[39m\u001b[38;5;124m\"\u001b[39m\n\u001b[1;32m    576\u001b[0m     )\n",
      "\u001b[0;31mValueError\u001b[0m: Length of values (5675) does not match length of index (5683)"
     ]
    }
   ],
   "source": [
    "final_model.arch_lm_test()"
   ]
  },
  {
   "cell_type": "code",
   "execution_count": 345,
   "id": "b669eb21-dab8-4c4f-9fc4-bc6ca303b8f6",
   "metadata": {},
   "outputs": [
    {
     "ename": "ValueError",
     "evalue": "Length of values (5675) does not match length of index (5683)",
     "output_type": "error",
     "traceback": [
      "\u001b[0;31m---------------------------------------------------------------------------\u001b[0m",
      "\u001b[0;31mValueError\u001b[0m                                Traceback (most recent call last)",
      "Cell \u001b[0;32mIn[345], line 1\u001b[0m\n\u001b[0;32m----> 1\u001b[0m \u001b[43mfinal_model\u001b[49m\u001b[38;5;241;43m.\u001b[39;49m\u001b[43mplot\u001b[49m\u001b[43m(\u001b[49m\u001b[43m)\u001b[49m\n",
      "File \u001b[0;32m~/Documents/Projects/varfxi/.venv/lib/python3.9/site-packages/arch/univariate/base.py:1359\u001b[0m, in \u001b[0;36mARCHModelFixedResult.plot\u001b[0;34m(self, annualize, scale)\u001b[0m\n\u001b[1;32m   1356\u001b[0m fig \u001b[38;5;241m=\u001b[39m figure()\n\u001b[1;32m   1358\u001b[0m ax \u001b[38;5;241m=\u001b[39m fig\u001b[38;5;241m.\u001b[39madd_subplot(\u001b[38;5;241m2\u001b[39m, \u001b[38;5;241m1\u001b[39m, \u001b[38;5;241m1\u001b[39m)\n\u001b[0;32m-> 1359\u001b[0m ax\u001b[38;5;241m.\u001b[39mplot(\u001b[38;5;28mself\u001b[39m\u001b[38;5;241m.\u001b[39m_index\u001b[38;5;241m.\u001b[39mvalues, \u001b[38;5;28;43mself\u001b[39;49m\u001b[38;5;241;43m.\u001b[39;49m\u001b[43mresid\u001b[49m \u001b[38;5;241m/\u001b[39m \u001b[38;5;28mself\u001b[39m\u001b[38;5;241m.\u001b[39mconditional_volatility)\n\u001b[1;32m   1360\u001b[0m ax\u001b[38;5;241m.\u001b[39mset_title(\u001b[38;5;124m\"\u001b[39m\u001b[38;5;124mStandardized Residuals\u001b[39m\u001b[38;5;124m\"\u001b[39m)\n\u001b[1;32m   1361\u001b[0m ax\u001b[38;5;241m.\u001b[39maxes\u001b[38;5;241m.\u001b[39mxaxis\u001b[38;5;241m.\u001b[39mset_ticklabels([])\n",
      "File \u001b[0;32m~/Documents/Projects/varfxi/.venv/lib/python3.9/site-packages/arch/vendor/property_cached.py:71\u001b[0m, in \u001b[0;36mcached_property.__get__\u001b[0;34m(self, obj, cls)\u001b[0m\n\u001b[1;32m     69\u001b[0m value \u001b[38;5;241m=\u001b[39m \u001b[38;5;28mself\u001b[39m\u001b[38;5;241m.\u001b[39mcache\u001b[38;5;241m.\u001b[39mget(obj, \u001b[38;5;28mself\u001b[39m\u001b[38;5;241m.\u001b[39m_sentinel)\n\u001b[1;32m     70\u001b[0m \u001b[38;5;28;01mif\u001b[39;00m value \u001b[38;5;129;01mis\u001b[39;00m \u001b[38;5;28mself\u001b[39m\u001b[38;5;241m.\u001b[39m_sentinel:\n\u001b[0;32m---> 71\u001b[0m     value \u001b[38;5;241m=\u001b[39m \u001b[38;5;28mself\u001b[39m\u001b[38;5;241m.\u001b[39mcache[obj] \u001b[38;5;241m=\u001b[39m \u001b[38;5;28;43mself\u001b[39;49m\u001b[38;5;241;43m.\u001b[39;49m\u001b[43mfunc\u001b[49m\u001b[43m(\u001b[49m\u001b[43mobj\u001b[49m\u001b[43m)\u001b[49m\n\u001b[1;32m     73\u001b[0m \u001b[38;5;28;01mreturn\u001b[39;00m value\n",
      "File \u001b[0;32m~/Documents/Projects/varfxi/.venv/lib/python3.9/site-packages/arch/univariate/base.py:1293\u001b[0m, in \u001b[0;36mARCHModelFixedResult.resid\u001b[0;34m(self)\u001b[0m\n\u001b[1;32m   1289\u001b[0m \u001b[38;5;250m\u001b[39m\u001b[38;5;124;03m\"\"\"\u001b[39;00m\n\u001b[1;32m   1290\u001b[0m \u001b[38;5;124;03mModel residuals\u001b[39;00m\n\u001b[1;32m   1291\u001b[0m \u001b[38;5;124;03m\"\"\"\u001b[39;00m\n\u001b[1;32m   1292\u001b[0m \u001b[38;5;28;01mif\u001b[39;00m \u001b[38;5;28mself\u001b[39m\u001b[38;5;241m.\u001b[39m_is_pandas:\n\u001b[0;32m-> 1293\u001b[0m     \u001b[38;5;28;01mreturn\u001b[39;00m \u001b[43mpd\u001b[49m\u001b[38;5;241;43m.\u001b[39;49m\u001b[43mSeries\u001b[49m\u001b[43m(\u001b[49m\u001b[38;5;28;43mself\u001b[39;49m\u001b[38;5;241;43m.\u001b[39;49m\u001b[43m_resid\u001b[49m\u001b[43m,\u001b[49m\u001b[43m \u001b[49m\u001b[43mname\u001b[49m\u001b[38;5;241;43m=\u001b[39;49m\u001b[38;5;124;43m\"\u001b[39;49m\u001b[38;5;124;43mresid\u001b[39;49m\u001b[38;5;124;43m\"\u001b[39;49m\u001b[43m,\u001b[49m\u001b[43m \u001b[49m\u001b[43mindex\u001b[49m\u001b[38;5;241;43m=\u001b[39;49m\u001b[38;5;28;43mself\u001b[39;49m\u001b[38;5;241;43m.\u001b[39;49m\u001b[43m_index\u001b[49m\u001b[43m)\u001b[49m\n\u001b[1;32m   1294\u001b[0m \u001b[38;5;28;01melse\u001b[39;00m:\n\u001b[1;32m   1295\u001b[0m     \u001b[38;5;28;01mreturn\u001b[39;00m \u001b[38;5;28mself\u001b[39m\u001b[38;5;241m.\u001b[39m_resid\n",
      "File \u001b[0;32m~/Documents/Projects/varfxi/.venv/lib/python3.9/site-packages/pandas/core/series.py:461\u001b[0m, in \u001b[0;36mSeries.__init__\u001b[0;34m(self, data, index, dtype, name, copy, fastpath)\u001b[0m\n\u001b[1;32m    459\u001b[0m     index \u001b[38;5;241m=\u001b[39m default_index(\u001b[38;5;28mlen\u001b[39m(data))\n\u001b[1;32m    460\u001b[0m \u001b[38;5;28;01melif\u001b[39;00m is_list_like(data):\n\u001b[0;32m--> 461\u001b[0m     \u001b[43mcom\u001b[49m\u001b[38;5;241;43m.\u001b[39;49m\u001b[43mrequire_length_match\u001b[49m\u001b[43m(\u001b[49m\u001b[43mdata\u001b[49m\u001b[43m,\u001b[49m\u001b[43m \u001b[49m\u001b[43mindex\u001b[49m\u001b[43m)\u001b[49m\n\u001b[1;32m    463\u001b[0m \u001b[38;5;66;03m# create/copy the manager\u001b[39;00m\n\u001b[1;32m    464\u001b[0m \u001b[38;5;28;01mif\u001b[39;00m \u001b[38;5;28misinstance\u001b[39m(data, (SingleBlockManager, SingleArrayManager)):\n",
      "File \u001b[0;32m~/Documents/Projects/varfxi/.venv/lib/python3.9/site-packages/pandas/core/common.py:571\u001b[0m, in \u001b[0;36mrequire_length_match\u001b[0;34m(data, index)\u001b[0m\n\u001b[1;32m    567\u001b[0m \u001b[38;5;250m\u001b[39m\u001b[38;5;124;03m\"\"\"\u001b[39;00m\n\u001b[1;32m    568\u001b[0m \u001b[38;5;124;03mCheck the length of data matches the length of the index.\u001b[39;00m\n\u001b[1;32m    569\u001b[0m \u001b[38;5;124;03m\"\"\"\u001b[39;00m\n\u001b[1;32m    570\u001b[0m \u001b[38;5;28;01mif\u001b[39;00m \u001b[38;5;28mlen\u001b[39m(data) \u001b[38;5;241m!=\u001b[39m \u001b[38;5;28mlen\u001b[39m(index):\n\u001b[0;32m--> 571\u001b[0m     \u001b[38;5;28;01mraise\u001b[39;00m \u001b[38;5;167;01mValueError\u001b[39;00m(\n\u001b[1;32m    572\u001b[0m         \u001b[38;5;124m\"\u001b[39m\u001b[38;5;124mLength of values \u001b[39m\u001b[38;5;124m\"\u001b[39m\n\u001b[1;32m    573\u001b[0m         \u001b[38;5;124mf\u001b[39m\u001b[38;5;124m\"\u001b[39m\u001b[38;5;124m(\u001b[39m\u001b[38;5;132;01m{\u001b[39;00m\u001b[38;5;28mlen\u001b[39m(data)\u001b[38;5;132;01m}\u001b[39;00m\u001b[38;5;124m) \u001b[39m\u001b[38;5;124m\"\u001b[39m\n\u001b[1;32m    574\u001b[0m         \u001b[38;5;124m\"\u001b[39m\u001b[38;5;124mdoes not match length of index \u001b[39m\u001b[38;5;124m\"\u001b[39m\n\u001b[1;32m    575\u001b[0m         \u001b[38;5;124mf\u001b[39m\u001b[38;5;124m\"\u001b[39m\u001b[38;5;124m(\u001b[39m\u001b[38;5;132;01m{\u001b[39;00m\u001b[38;5;28mlen\u001b[39m(index)\u001b[38;5;132;01m}\u001b[39;00m\u001b[38;5;124m)\u001b[39m\u001b[38;5;124m\"\u001b[39m\n\u001b[1;32m    576\u001b[0m     )\n",
      "\u001b[0;31mValueError\u001b[0m: Length of values (5675) does not match length of index (5683)"
     ]
    },
    {
     "data": {
      "image/png": "[encoded data removed]",
      "text/plain": [
       "<Figure size 3840x2880 with 1 Axes>"
      ]
     },
     "metadata": {},
     "output_type": "display_data"
    }
   ],
   "source": [
    "final_model.plot()"
   ]
  },
  {
   "cell_type": "code",
   "execution_count": null,
   "id": "a0a2926d-cc58-4d22-a29e-4de6e56d6104",
   "metadata": {},
   "outputs": [],
   "source": []
  },
  {
   "cell_type": "code",
   "execution_count": 42,
   "id": "c846723f-67d6-4503-aec7-195facd38c17",
   "metadata": {},
   "outputs": [],
   "source": [
    "# create the list of quantiles\n",
    "q_l = [0.01] + [round(x,3) for x in np.arange(0.025,1,0.025)] + [0.99]\n",
    "cond_quant_labels_l = [f\"cond_quant_{q}\" for q in q_l]\n",
    "# compute the PPF for all Quantiles\n",
    "err_cond_quant = cond_ppf(q_l)\n",
    "\n",
    "for var in cond_quant_labels_l: dfor[var] = np.nan\n",
    "dfor[cond_quant_labels_l] = (dfor[['cond_mean']].values + (dfor[['cond_vol']].values * err_cond_quant[None, :]))\n",
    "\n",
    "# Sampling the error terms and deriving the values for y in a dataframe\n",
    "\n",
    "# create the standardized error distribution sampler\n",
    "err_sampler = vol_mod.distribution.simulate(dist_params)\n",
    "sample_size = 1000\n",
    "err_sample = err_sampler(sample_size)\n",
    "\n",
    "# Rescale to get a sample for the true time series\n",
    "cond_vol_reshape = cond_vol.values.reshape((-1, 1))  # shape (5675, 1)\n",
    "err_sample_reshape = err_sample.reshape((1, -1))  # shape (1, 1000)\n",
    "cond_mean_reshape = cond_mean.values.reshape((-1, 1))\n",
    "\n",
    "sample = pd.DataFrame(cond_mean_reshape + np.dot(cond_vol_reshape, err_sample_reshape),\n",
    "                      columns=range(sample_size),\n",
    "                      index=dfor.index)"
   ]
  },
  {
   "cell_type": "markdown",
   "id": "436eab7f-a27c-4cab-89db-1c0b80570e13",
   "metadata": {},
   "source": [
    "$\\ln f\\left(x\\right)=-\\frac{1}{2}\\left(\\ln2\\pi+\\ln\\sigma^{2}  +\\frac{x^{2}}{\\sigma^{2}}\\right)$"
   ]
  },
  {
   "cell_type": "markdown",
   "id": "d6c8514a-b770-4fb3-9e27-9bbb3a10f652",
   "metadata": {},
   "source": [
    "$\\ln\\Gamma\\left(\\frac{\\nu+1}{2}\\right) -\\ln\\Gamma\\left(\\frac{\\nu}{2}\\right) -\\frac{1}{2}\\ln(\\pi\\left(\\nu-2\\right)\\sigma^{2}) -\\frac{\\nu+1}{2}\\ln(1+x^{2}/(\\sigma^{2}(\\nu-2)))$"
   ]
  },
  {
   "cell_type": "code",
   "execution_count": 69,
   "id": "8b3cd98a-2232-4126-aa79-11f3e3766034",
   "metadata": {},
   "outputs": [],
   "source": [
    "rv = {}\n",
    "dfor['pit_true_val'] = np.nan\n",
    "for date in dfor.index:\n",
    "    param_fit = scipy_dist.fit(sample.loc[date])\n",
    "    rv[date] = scipy_dist(*param_fit)\n",
    "    dfor.loc[date, 'pit_true_val'] = rv[date].cdf( dfor.loc[date, 'true_val'])"
   ]
  },
  {
   "cell_type": "code",
   "execution_count": 74,
   "id": "61079e4d-e43c-4b06-934a-5378f2dd0f02",
   "metadata": {},
   "outputs": [
    {
     "name": "stdout",
     "output_type": "stream",
     "text": [
      "########## Rossi and Shekopysan JoE 2019 PIT test ##########\n",
      "PIT test Fail !!!\n",
      "Distribution is not well specified\n",
      "The conditional CDF of Normalized True Values are not a Uniform\n"
     ]
    },
    {
     "data": {
      "image/png": "[encoded data removed]",
      "text/plain": [
       "<Figure size 640x480 with 1 Axes>"
      ]
     },
     "metadata": {},
     "output_type": "display_data"
    },
    {
     "name": "stdout",
     "output_type": "stream",
     "text": [
      "########## Kolmogorov Smirnov PIT test ##########\n",
      "PIT test Pass !!!\n",
      "Distribution is not well specified\n",
      "The conditional CDF of Normalized True Values are not a Uniform\n"
     ]
    },
    {
     "data": {
      "text/plain": [
       "True"
      ]
     },
     "execution_count": 74,
     "metadata": {},
     "output_type": "execute_result"
    }
   ],
   "source": [
    "RS_PIT_test(dfor['pit'].dropna(), threshold = th, part_distribution='Tails')\n",
    "KS_PIT_test(dfor['pit'].dropna(), threshold = th)    "
   ]
  },
  {
   "cell_type": "markdown",
   "id": "762e5f7e-25a0-4d46-be7f-bfe7ba7791b7",
   "metadata": {},
   "source": [
    "### Zig-Zag Method\n",
    "Split Mean estimation from volatility estimation"
   ]
  },
  {
   "cell_type": "code",
   "execution_count": 34,
   "id": "e7c10ae7-4317-4707-a80a-04c4b6020583",
   "metadata": {
    "tags": []
   },
   "outputs": [
    {
     "ename": "InvalidIndexError",
     "evalue": "Reindexing only valid with uniquely valued Index objects",
     "output_type": "error",
     "traceback": [
      "\u001b[0;31m---------------------------------------------------------------------------\u001b[0m",
      "\u001b[0;31mInvalidIndexError\u001b[0m                         Traceback (most recent call last)",
      "Cell \u001b[0;32mIn[34], line 50\u001b[0m\n\u001b[1;32m     42\u001b[0m     vol_res \u001b[38;5;241m=\u001b[39m vol_mod\u001b[38;5;241m.\u001b[39mfit(disp\u001b[38;5;241m=\u001b[39m\u001b[38;5;124m\"\u001b[39m\u001b[38;5;124moff\u001b[39m\u001b[38;5;124m\"\u001b[39m)\n\u001b[1;32m     45\u001b[0m     params[\u001b[38;5;124mf\u001b[39m\u001b[38;5;124m\"\u001b[39m\u001b[38;5;124miteration_\u001b[39m\u001b[38;5;132;01m{\u001b[39;00mi\u001b[38;5;132;01m}\u001b[39;00m\u001b[38;5;124m\"\u001b[39m] \u001b[38;5;241m=\u001b[39m pd\u001b[38;5;241m.\u001b[39mconcat([\n\u001b[1;32m     46\u001b[0m         pd\u001b[38;5;241m.\u001b[39mconcat([mean_res\u001b[38;5;241m.\u001b[39mparams, vol_res\u001b[38;5;241m.\u001b[39mparams]),\n\u001b[1;32m     47\u001b[0m         pd\u001b[38;5;241m.\u001b[39mconcat([mean_res\u001b[38;5;241m.\u001b[39mpvalues, vol_res\u001b[38;5;241m.\u001b[39mpvalues])\n\u001b[1;32m     48\u001b[0m     ], axis\u001b[38;5;241m=\u001b[39m\u001b[38;5;241m1\u001b[39m, keys\u001b[38;5;241m=\u001b[39m[\u001b[38;5;124m'\u001b[39m\u001b[38;5;124mparams\u001b[39m\u001b[38;5;124m'\u001b[39m, \u001b[38;5;124m'\u001b[39m\u001b[38;5;124mpvalues\u001b[39m\u001b[38;5;124m'\u001b[39m])\n\u001b[0;32m---> 50\u001b[0m params_df \u001b[38;5;241m=\u001b[39m \u001b[43mpd\u001b[49m\u001b[38;5;241;43m.\u001b[39;49m\u001b[43mconcat\u001b[49m\u001b[43m(\u001b[49m\u001b[43mparams\u001b[49m\u001b[38;5;241;43m.\u001b[39;49m\u001b[43mvalues\u001b[49m\u001b[43m(\u001b[49m\u001b[43m)\u001b[49m\u001b[43m,\u001b[49m\u001b[43m \u001b[49m\u001b[43mkeys\u001b[49m\u001b[43m \u001b[49m\u001b[38;5;241;43m=\u001b[39;49m\u001b[43m \u001b[49m\u001b[43mparams\u001b[49m\u001b[38;5;241;43m.\u001b[39;49m\u001b[43mkeys\u001b[49m\u001b[43m(\u001b[49m\u001b[43m)\u001b[49m\u001b[43m,\u001b[49m\u001b[43m \u001b[49m\u001b[43maxis\u001b[49m\u001b[38;5;241;43m=\u001b[39;49m\u001b[38;5;241;43m1\u001b[39;49m\u001b[43m)\u001b[49m\n\u001b[1;32m     51\u001b[0m display( np\u001b[38;5;241m.\u001b[39mround(params_df, \u001b[38;5;241m3\u001b[39m))\n\u001b[1;32m     52\u001b[0m \u001b[38;5;28mprint\u001b[39m(mean_res\u001b[38;5;241m.\u001b[39msummary())\n",
      "File \u001b[0;32m~/Documents/Projects/varfxi/.venv/lib/python3.9/site-packages/pandas/util/_decorators.py:331\u001b[0m, in \u001b[0;36mdeprecate_nonkeyword_arguments.<locals>.decorate.<locals>.wrapper\u001b[0;34m(*args, **kwargs)\u001b[0m\n\u001b[1;32m    325\u001b[0m \u001b[38;5;28;01mif\u001b[39;00m \u001b[38;5;28mlen\u001b[39m(args) \u001b[38;5;241m>\u001b[39m num_allow_args:\n\u001b[1;32m    326\u001b[0m     warnings\u001b[38;5;241m.\u001b[39mwarn(\n\u001b[1;32m    327\u001b[0m         msg\u001b[38;5;241m.\u001b[39mformat(arguments\u001b[38;5;241m=\u001b[39m_format_argument_list(allow_args)),\n\u001b[1;32m    328\u001b[0m         \u001b[38;5;167;01mFutureWarning\u001b[39;00m,\n\u001b[1;32m    329\u001b[0m         stacklevel\u001b[38;5;241m=\u001b[39mfind_stack_level(),\n\u001b[1;32m    330\u001b[0m     )\n\u001b[0;32m--> 331\u001b[0m \u001b[38;5;28;01mreturn\u001b[39;00m \u001b[43mfunc\u001b[49m\u001b[43m(\u001b[49m\u001b[38;5;241;43m*\u001b[39;49m\u001b[43margs\u001b[49m\u001b[43m,\u001b[49m\u001b[43m \u001b[49m\u001b[38;5;241;43m*\u001b[39;49m\u001b[38;5;241;43m*\u001b[39;49m\u001b[43mkwargs\u001b[49m\u001b[43m)\u001b[49m\n",
      "File \u001b[0;32m~/Documents/Projects/varfxi/.venv/lib/python3.9/site-packages/pandas/core/reshape/concat.py:381\u001b[0m, in \u001b[0;36mconcat\u001b[0;34m(objs, axis, join, ignore_index, keys, levels, names, verify_integrity, sort, copy)\u001b[0m\n\u001b[1;32m    159\u001b[0m \u001b[38;5;250m\u001b[39m\u001b[38;5;124;03m\"\"\"\u001b[39;00m\n\u001b[1;32m    160\u001b[0m \u001b[38;5;124;03mConcatenate pandas objects along a particular axis.\u001b[39;00m\n\u001b[1;32m    161\u001b[0m \n\u001b[0;32m   (...)\u001b[0m\n\u001b[1;32m    366\u001b[0m \u001b[38;5;124;03m1   3   4\u001b[39;00m\n\u001b[1;32m    367\u001b[0m \u001b[38;5;124;03m\"\"\"\u001b[39;00m\n\u001b[1;32m    368\u001b[0m op \u001b[38;5;241m=\u001b[39m _Concatenator(\n\u001b[1;32m    369\u001b[0m     objs,\n\u001b[1;32m    370\u001b[0m     axis\u001b[38;5;241m=\u001b[39maxis,\n\u001b[0;32m   (...)\u001b[0m\n\u001b[1;32m    378\u001b[0m     sort\u001b[38;5;241m=\u001b[39msort,\n\u001b[1;32m    379\u001b[0m )\n\u001b[0;32m--> 381\u001b[0m \u001b[38;5;28;01mreturn\u001b[39;00m \u001b[43mop\u001b[49m\u001b[38;5;241;43m.\u001b[39;49m\u001b[43mget_result\u001b[49m\u001b[43m(\u001b[49m\u001b[43m)\u001b[49m\n",
      "File \u001b[0;32m~/Documents/Projects/varfxi/.venv/lib/python3.9/site-packages/pandas/core/reshape/concat.py:612\u001b[0m, in \u001b[0;36m_Concatenator.get_result\u001b[0;34m(self)\u001b[0m\n\u001b[1;32m    610\u001b[0m         obj_labels \u001b[38;5;241m=\u001b[39m obj\u001b[38;5;241m.\u001b[39maxes[\u001b[38;5;241m1\u001b[39m \u001b[38;5;241m-\u001b[39m ax]\n\u001b[1;32m    611\u001b[0m         \u001b[38;5;28;01mif\u001b[39;00m \u001b[38;5;129;01mnot\u001b[39;00m new_labels\u001b[38;5;241m.\u001b[39mequals(obj_labels):\n\u001b[0;32m--> 612\u001b[0m             indexers[ax] \u001b[38;5;241m=\u001b[39m \u001b[43mobj_labels\u001b[49m\u001b[38;5;241;43m.\u001b[39;49m\u001b[43mget_indexer\u001b[49m\u001b[43m(\u001b[49m\u001b[43mnew_labels\u001b[49m\u001b[43m)\u001b[49m\n\u001b[1;32m    614\u001b[0m     mgrs_indexers\u001b[38;5;241m.\u001b[39mappend((obj\u001b[38;5;241m.\u001b[39m_mgr, indexers))\n\u001b[1;32m    616\u001b[0m new_data \u001b[38;5;241m=\u001b[39m concatenate_managers(\n\u001b[1;32m    617\u001b[0m     mgrs_indexers, \u001b[38;5;28mself\u001b[39m\u001b[38;5;241m.\u001b[39mnew_axes, concat_axis\u001b[38;5;241m=\u001b[39m\u001b[38;5;28mself\u001b[39m\u001b[38;5;241m.\u001b[39mbm_axis, copy\u001b[38;5;241m=\u001b[39m\u001b[38;5;28mself\u001b[39m\u001b[38;5;241m.\u001b[39mcopy\n\u001b[1;32m    618\u001b[0m )\n",
      "File \u001b[0;32m~/Documents/Projects/varfxi/.venv/lib/python3.9/site-packages/pandas/core/indexes/base.py:3904\u001b[0m, in \u001b[0;36mIndex.get_indexer\u001b[0;34m(self, target, method, limit, tolerance)\u001b[0m\n\u001b[1;32m   3901\u001b[0m \u001b[38;5;28mself\u001b[39m\u001b[38;5;241m.\u001b[39m_check_indexing_method(method, limit, tolerance)\n\u001b[1;32m   3903\u001b[0m \u001b[38;5;28;01mif\u001b[39;00m \u001b[38;5;129;01mnot\u001b[39;00m \u001b[38;5;28mself\u001b[39m\u001b[38;5;241m.\u001b[39m_index_as_unique:\n\u001b[0;32m-> 3904\u001b[0m     \u001b[38;5;28;01mraise\u001b[39;00m InvalidIndexError(\u001b[38;5;28mself\u001b[39m\u001b[38;5;241m.\u001b[39m_requires_unique_msg)\n\u001b[1;32m   3906\u001b[0m \u001b[38;5;28;01mif\u001b[39;00m \u001b[38;5;28mlen\u001b[39m(target) \u001b[38;5;241m==\u001b[39m \u001b[38;5;241m0\u001b[39m:\n\u001b[1;32m   3907\u001b[0m     \u001b[38;5;28;01mreturn\u001b[39;00m np\u001b[38;5;241m.\u001b[39marray([], dtype\u001b[38;5;241m=\u001b[39mnp\u001b[38;5;241m.\u001b[39mintp)\n",
      "\u001b[0;31mInvalidIndexError\u001b[0m: Reindexing only valid with uniquely valued Index objects"
     ]
    }
   ],
   "source": [
    "# Variable Declarations\n",
    "start_date = '2020-01-01'\n",
    "exog_l = models_l['Baseline']\n",
    "exog_fcast_d = {var: df_tranformed.loc[:, [var]].values for var in exog_l}\n",
    "horizon=1\n",
    "fmethod='analytic' #'simulations', 'bootstrap'\n",
    "\n",
    "\n",
    "for depvar in ['FX/Vix', 'FX log returns']:\n",
    "    exog_l = models_l['Baseline']\n",
    "    start_date = '2020-01-01'\n",
    "\n",
    "    exog_fcast_d = {var: df_tranformed.loc[:, [var]].values for var in exog_l}\n",
    "    horizon=1\n",
    "    fmethod='analytic' #'simulations', 'bootstrap'\n",
    "\n",
    "    params = {}\n",
    "    for i in range(3):\n",
    "        if i==0:\n",
    "            fv = ConstantVariance()\n",
    "        else:\n",
    "            # Create the fixed variance\n",
    "            cond_var = (vol_res.conditional_volatility**2.0)\n",
    "            variance = pd.Series(np.ones(len(df_tranformed))*cond_var.mean(), index=df_tranformed.index)\n",
    "            variance.loc[cond_var.index] = cond_var\n",
    "            variance = variance.fillna(variance.mean())    \n",
    "            fv = FixedVariance(variance, unit_scale=True)\n",
    "\n",
    "        # Re-train the main model with the previous Conditional Variance\n",
    "        mean_mod = ARX(df_tranformed[depvar], \n",
    "                  x = df_tranformed[exog_l], \n",
    "                  lags=[1, 8],\n",
    "                  volatility=fv,\n",
    "                       distribution = SkewStudent())\n",
    "        mean_res = mean_mod.fit(disp=\"off\")\n",
    "\n",
    "        vol_mod = ZeroMean(mean_res.resid.dropna(),\n",
    "                           volatility=GARCH(p=1, o=1, q=1),\n",
    "                           distribution = SkewStudent()\n",
    "                          )\n",
    "        vol_res = vol_mod.fit(disp=\"off\")\n",
    "\n",
    "\n",
    "        params[f\"iteration_{i}\"] = pd.concat([\n",
    "            pd.concat([mean_res.params, vol_res.params]),\n",
    "            pd.concat([mean_res.pvalues, vol_res.pvalues])\n",
    "        ], axis=1, keys=['params', 'pvalues'])\n",
    "\n",
    "    params_df = pd.concat(params.values(), keys = params.keys(), axis=1)\n",
    "    display( np.round(params_df, 3))\n",
    "    print(mean_res.summary())\n",
    "    print(vol_res.summary())\n",
    "    mean_res.plot(); plt.show()\n",
    "    \n",
    "#     #Forecast\n",
    "#     forecast_vars = pd.concat([df_tranformed[depvar].shift(lag).rename(f'FX l...rns[{lag}]') for lag in [1, 8]],axis=1)\n",
    "#     forecast_vars['Const'] = 1\n",
    "#     forecast_vars = pd.concat([forecast_vars, df_tranformed[exog_l]], axis=1).dropna()\n",
    "#     cond_mean = (mean_res.params*forecast_vars).sum(axis=1)\n",
    "    \n",
    "#     cond_vol = vol_res.conditional_volatility\n",
    "#     cond_var = cond_vol**2\n",
    "    \n",
    "#     res_forecast = pd.concat([\n",
    "#         cond_mean,\n",
    "#         cond_vol,\n",
    "#         cond_var\n",
    "#     ], axis = 1, keys = ['Mean', 'Volatility', 'Variance'])\n",
    "    \n",
    "#     plot_forecast(res_forecast)"
   ]
  }
 ],
 "metadata": {
  "kernelspec": {
   "display_name": "varfxi",
   "language": "python",
   "name": "varfxi"
  },
  "language_info": {
   "codemirror_mode": {
    "name": "ipython",
    "version": 3
   },
   "file_extension": ".py",
   "mimetype": "text/x-python",
   "name": "python",
   "nbconvert_exporter": "python",
   "pygments_lexer": "ipython3",
   "version": "3.9.7"
  }
 },
 "nbformat": 4,
 "nbformat_minor": 5
}
